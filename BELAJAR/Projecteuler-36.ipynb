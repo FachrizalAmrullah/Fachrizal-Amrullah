{
 "cells": [
  {
   "cell_type": "markdown",
   "metadata": {},
   "source": [
    "## Project Euler 36"
   ]
  },
  {
   "cell_type": "markdown",
   "metadata": {},
   "source": [
    "\n",
    "The decimal number, 585 = 10010010012 (binary), is palindromic in both bases.\n",
    "\n",
    "Find the sum of all numbers, less than one million, which are palindromic in base 10 and base 2.\n",
    "\n",
    "(Please note that the palindromic number, in either base, may not include leading zeros.)\n"
   ]
  },
  {
   "cell_type": "code",
   "execution_count": 2,
   "metadata": {},
   "outputs": [
    {
     "name": "stdout",
     "output_type": "stream",
     "text": [
      "jumlahan Bilangan Double-Base Palindromes dari 1 sampai 1.000.000 adalah  872187\n"
     ]
    }
   ],
   "source": [
    "#inisiasi nilai awal jumlahan bilangan double base palindromes\n",
    "j=0\n",
    "\n",
    "#Looping range bilangan 1-1.000.000\n",
    "for i in range (1,1000000):\n",
    "    #Mencari bilangan palindrome\n",
    "    if str(i) == str(i)[::-1]:\n",
    "        #Kalau sudah dapat, akan diubah menjadi bilangan basis 2\n",
    "        a=(str(bin(i)))[2:]\n",
    "        #Diuji bilangan basis 2 tersebut Palindrome atau bukan\n",
    "        if a==a[::-1]:\n",
    "            #Jika iya, maka bilangan i akan dijumlahkan dan terus berulang\n",
    "            j=j+i\n",
    "print (\"jumlahan Bilangan Double-Base Palindromes dari 1 sampai 1.000.000 adalah \", j)"
   ]
  }
 ],
 "metadata": {
  "kernelspec": {
   "display_name": "Python 3",
   "language": "python",
   "name": "python3"
  },
  "language_info": {
   "codemirror_mode": {
    "name": "ipython",
    "version": 3
   },
   "file_extension": ".py",
   "mimetype": "text/x-python",
   "name": "python",
   "nbconvert_exporter": "python",
   "pygments_lexer": "ipython3",
   "version": "3.7.0"
  }
 },
 "nbformat": 4,
 "nbformat_minor": 2
}
