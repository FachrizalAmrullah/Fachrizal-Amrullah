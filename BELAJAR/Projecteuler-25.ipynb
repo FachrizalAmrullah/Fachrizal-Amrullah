{
 "cells": [
  {
   "cell_type": "markdown",
   "metadata": {},
   "source": [
    "## Project Euler 25"
   ]
  },
  {
   "cell_type": "markdown",
   "metadata": {},
   "source": [
    "\n",
    "The Fibonacci sequence is defined by the recurrence relation:\n",
    "\n",
    "    Fn = Fn−1 + Fn−2, where F1 = 1 and F2 = 1.\n",
    "\n",
    "Hence the first 12 terms will be:\n",
    "\n",
    "    F1 = 1\n",
    "    F2 = 1\n",
    "    F3 = 2\n",
    "    F4 = 3\n",
    "    F5 = 5\n",
    "    F6 = 8\n",
    "    F7 = 13\n",
    "    F8 = 21\n",
    "    F9 = 34\n",
    "    F10 = 55\n",
    "    F11 = 89\n",
    "    F12 = 144\n",
    "\n",
    "The 12th term, F12, is the first term to contain three digits.\n",
    "\n",
    "What is the index of the first term in the Fibonacci sequence to contain 1000 digits?\n"
   ]
  },
  {
   "cell_type": "code",
   "execution_count": null,
   "metadata": {},
   "outputs": [],
   "source": [
    "def Fibonacci(NthTerm):\n",
    "    if NthTerm == 1 or NthTerm == 2:\n",
    "        return 1 # Challenge defines 1st and 2nd term as == 1\n",
    "    else:  # recursive definition of Fib term\n",
    "        return Fibonacci(NthTerm-1) + Fibonacci(NthTerm-2)\n",
    "\n",
    "FirstTerm = 0 # For scope to include Term in scope of print on line 13\n",
    "for Term in range(1, 1000): # Arbitrary range\n",
    "    FibValue = str(Fibonacci(Term)) # Convert integer to string for len()\n",
    "    if len(FibValue) == 1000:\n",
    "        FirstTerm = Term\n",
    "        break # Stop there\n",
    "    else:\n",
    "        continue # Go to next number\n",
    "print (\"The first term in the\\nFibonacci sequence to\\ncontain 1000 digits\\nis the\", FirstTerm, \"term.\")"
   ]
  }
 ],
 "metadata": {
  "kernelspec": {
   "display_name": "Python 3",
   "language": "python",
   "name": "python3"
  },
  "language_info": {
   "codemirror_mode": {
    "name": "ipython",
    "version": 3
   },
   "file_extension": ".py",
   "mimetype": "text/x-python",
   "name": "python",
   "nbconvert_exporter": "python",
   "pygments_lexer": "ipython3",
   "version": "3.7.0"
  }
 },
 "nbformat": 4,
 "nbformat_minor": 2
}
