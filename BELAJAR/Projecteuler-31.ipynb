{
 "cells": [
  {
   "cell_type": "markdown",
   "metadata": {},
   "source": [
    "## Project Euler 31"
   ]
  },
  {
   "cell_type": "markdown",
   "metadata": {},
   "source": [
    "\n",
    "In the United Kingdom the currency is made up of pound (£) and pence (p). There are eight coins in general circulation:\n",
    "\n",
    "    1p, 2p, 5p, 10p, 20p, 50p, £1 (100p), and £2 (200p).\n",
    "\n",
    "It is possible to make £2 in the following way:\n",
    "\n",
    "    1×£1 + 1×50p + 2×20p + 1×5p + 1×2p + 3×1p\n",
    "\n",
    "How many different ways can £2 be made using any number of coins?\n"
   ]
  },
  {
   "cell_type": "markdown",
   "metadata": {},
   "source": [
    "### 100a + 50b + 20c + 10d + 5e + 2f + g = 200\n",
    "\n",
    "##### Mencari Kombinasi (a,b,c,d,e,f,g) yang mungkin"
   ]
  },
  {
   "cell_type": "code",
   "execution_count": 2,
   "metadata": {},
   "outputs": [
    {
     "name": "stdout",
     "output_type": "stream",
     "text": [
      "Total number of ways we can form the 200p\n",
      "73682\n"
     ]
    }
   ],
   "source": [
    "#counter for couting number of possibilities\n",
    "counter = 0\n",
    "\n",
    "# number of 100p coins\n",
    "for a in range(0,3):\n",
    "    if 100*a==200:\n",
    "        counter=counter+1\n",
    "        # print (a,\"0 0 0 0 0 0\")\n",
    "    else:\n",
    "        # number of 50p coins\n",
    "        for b in range(0, int(1+(200-100*a)/50)):\n",
    "            if 100*a+50*b==200:\n",
    "                counter=counter+1\n",
    "                # print (a,b,\"0 0 0 0 0\")\n",
    "            else:\n",
    "                # number of 20p coins\n",
    "                for c in range(0, int(1+(200-100*a-50*b)/20)):\n",
    "                    if 100*a+50*b+20*c==200:\n",
    "                        counter=counter+1\n",
    "                        # print (a,b,c,\"0 0 0 0\")\n",
    "                    else:\n",
    "                        # number of 10p coins\n",
    "                        for d in range(0, int(1+(200-100*a-50*b-20*c)/10)):\n",
    "                            if 100*a+50*b+20*c+10*d==200:\n",
    "                                counter=counter+1\n",
    "                                # print (a,b,c,d,\"0 0 0\")\n",
    "                            else:\n",
    "                                # number of 5p coins\n",
    "                                for e in range(0, int(1+(200-100*a-50*b-20*c-10*d)/5)):\n",
    "                                    if 100*a+50*b+20*c+10*d+5*e==200:\n",
    "                                        counter=counter+1\n",
    "                                        # print (a,b,c,d,e,\"0 0\")\n",
    "                                    else:\n",
    "                                        # number of 2p coins\n",
    "                                        for f in range(0, int(1+(200-100*a-50*b-20*c-10*d-5*e)/2)):\n",
    "                                            if 100*a+50*b+20*c+10*d+5*e+2*f==200:\n",
    "                                                counter=counter+1\n",
    "                                                # print (a,b,c,d,e,f,\"0\")\n",
    "                                            else:\n",
    "                                                # number of p coins\n",
    "                                                for g in range(0, int(1+(200-100*a-50*b-20*c-10*d-5*e-2*f))):\n",
    "                                                    if 100*a+50*b+20*c+10*d+5*e+2*f+g==200:\n",
    "                                                        counter=counter+1\n",
    "                                                        # print (a,b,c,d,e,f,g)\n",
    "# Total number of ways we can form the 200p\n",
    "print(\"Total number of ways we can form the 200p\")\n",
    "# Added 1 for 200p case\n",
    "print (counter+1)"
   ]
  }
 ],
 "metadata": {
  "kernelspec": {
   "display_name": "Python 3",
   "language": "python",
   "name": "python3"
  },
  "language_info": {
   "codemirror_mode": {
    "name": "ipython",
    "version": 3
   },
   "file_extension": ".py",
   "mimetype": "text/x-python",
   "name": "python",
   "nbconvert_exporter": "python",
   "pygments_lexer": "ipython3",
   "version": "3.7.0"
  }
 },
 "nbformat": 4,
 "nbformat_minor": 2
}
